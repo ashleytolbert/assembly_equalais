{
 "cells": [
  {
   "cell_type": "code",
   "execution_count": 1,
   "metadata": {},
   "outputs": [],
   "source": [
    "import os\n",
    "import shutil\n",
    "import random"
   ]
  },
  {
   "cell_type": "code",
   "execution_count": 6,
   "metadata": {},
   "outputs": [
    {
     "data": {
      "text/plain": [
       "'../../data/cifar-10/lfw_cropped_scaled'"
      ]
     },
     "execution_count": 6,
     "metadata": {},
     "output_type": "execute_result"
    }
   ],
   "source": [
    "# Move lfw_cropped_scaled into cifar-10\n",
    "root_lfw = \"../../data/lfw_cropped_scaled/\"\n",
    "dest_lfw = \"../../data/cifar-10/\"\n",
    "\n",
    "shutil.move(root_lfw,dest_lfw)"
   ]
  },
  {
   "cell_type": "code",
   "execution_count": 7,
   "metadata": {},
   "outputs": [],
   "source": [
    "# Rename cifar-10 to cifar 11\n",
    "os.rename('../../data/cifar-10','../../data/cifar-11')"
   ]
  },
  {
   "cell_type": "code",
   "execution_count": 9,
   "metadata": {},
   "outputs": [],
   "source": [
    "# Rename lfw_cropped_scaled to faces\n",
    "os.rename('../../data/cifar-11/lfw_cropped_scaled/','../../data/cifar-11/face')"
   ]
  },
  {
   "cell_type": "code",
   "execution_count": 2,
   "metadata": {},
   "outputs": [],
   "source": [
    "# Randomly select subtraction batch from faces to reduce to n=6000\n",
    "random.seed(12345)\n",
    "\n",
    "files = sorted(os.listdir('../../data/cifar-11/face'))\n",
    "file_count = len(files)\n",
    "\n",
    "holdout_size = file_count - 6000\n",
    "random_files_idx = random.sample(range(0, file_count), holdout_size)\n",
    "random_files_names = [files[idx] for idx in random_files_idx]\n",
    "\n",
    "# Create cifar-11_face_holdout\n",
    "root_holdout = '../../data/cifar-11_holdout/'\n",
    "\n",
    "# If root_write directory exists overwrite it.\n",
    "if os.path.exists(root_holdout):\n",
    "    shutil.rmtree(root_holdout)\n",
    "os.makedirs(root_holdout)\n",
    "\n",
    "# Move subtraction batch to cifar-11_face_holdout\n",
    "for filename in random_files_names:\n",
    "    holdout_src = '../../data/cifar-11/face'\n",
    "    src = os.path.join(holdout_src,filename)\n",
    "    holdout_dst = '../../data/cifar-11_holdout/'\n",
    "    shutil.move(src,holdout_dst)\n"
   ]
  },
  {
   "cell_type": "code",
   "execution_count": 18,
   "metadata": {},
   "outputs": [],
   "source": [
    "# Create independent clean up script."
   ]
  },
  {
   "cell_type": "code",
   "execution_count": null,
   "metadata": {},
   "outputs": [],
   "source": []
  }
 ],
 "metadata": {
  "kernelspec": {
   "display_name": "Python 3",
   "language": "python",
   "name": "python3"
  },
  "language_info": {
   "codemirror_mode": {
    "name": "ipython",
    "version": 3
   },
   "file_extension": ".py",
   "mimetype": "text/x-python",
   "name": "python",
   "nbconvert_exporter": "python",
   "pygments_lexer": "ipython3",
   "version": "3.5.2"
  }
 },
 "nbformat": 4,
 "nbformat_minor": 2
}
